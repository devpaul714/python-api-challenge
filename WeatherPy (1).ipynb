{
 "cells": [
  {
   "cell_type": "code",
   "execution_count": null,
   "id": "3ee5e7df",
   "metadata": {},
   "outputs": [],
   "source": [
    "import matplotlib.pyplot as plt\n",
    "import pandas as pd\n",
    "import numpy as np\n",
    "import requests\n",
    "import time\n",
    "from scipy.stats import linregress\n",
    "\n",
    "# Import API key\n",
    "from api_keys import weather_api_key\n",
    "\n",
    "# Incorporated citipy to determine city based on latitude and longitude\n",
    "from citipy import citipy\n",
    "\n",
    "# Output File (CSV)\n",
    "output_data_file = \"output_data/cities.csv\"\n",
    "\n",
    "# Range of latitudes and longitudes\n",
    "lat_range = (-90, 90)\n",
    "lng_range = (-180, 180)"
   ]
  },
  {
   "cell_type": "code",
   "execution_count": null,
   "id": "7a25910b",
   "metadata": {},
   "outputs": [],
   "source": [
    "pip install citipy"
   ]
  },
  {
   "cell_type": "code",
   "execution_count": null,
   "id": "409459fd",
   "metadata": {},
   "outputs": [],
   "source": [
    "# List for holding lat_lngs and cities\n",
    "lat_lngs = []\n",
    "cities = []\n",
    "\n",
    "# Create a set of random lat and lng combinations\n",
    "lats = np.random.uniform(low=-90.000, high=90.000, size=1500)\n",
    "lngs = np.random.uniform(low=-180.000, high=180.000, size=1500)\n",
    "lat_lngs = zip(lats, lngs)\n",
    "\n",
    "# Identify nearest city for each lat, lng combination\n",
    "for lat_lng in lat_lngs:\n",
    "    city = citipy.nearest_city(lat_lng[0], lat_lng[1]).city_name\n",
    "    \n",
    "    # If the city is unique, then add it to a our cities list\n",
    "    if city not in cities:\n",
    "        cities.append(city)\n",
    "\n",
    "#Print the city count to confirm sufficient count\n",
    "len(cities)"
   ]
  },
  {
   "cell_type": "code",
   "execution_count": null,
   "id": "3c310c2d",
   "metadata": {},
   "outputs": [],
   "source": [
    "# Starting URL for Weather Map API call\n",
    "url = f\"http://api.openweathermap.org/data/2.5/weather?units=Imperial&APPID={\"ee1fb9fa46aa2b5b576fe915dd234524\"\n",
    "}\"\n",
    "# Print (url)\n",
    "\n",
    "\n",
    "# List of City Data\n",
    "city_data = []\n",
    "\n",
    "# Print to logger\n",
    "print(\"Beginning Data Retrieval\")\n",
    "print (\"-\" * 15)\n",
    "\n",
    "\n",
    "# Create counters\n",
    "record_count = 1\n",
    "set_count = 1\n",
    "# Loop through all the cities in list\n",
    "for index, city in enumerate(cities):\n",
    "    # Group cities in sets of 50 for loggin purpose\n",
    "    if (index % 50 == 0 and index >= 50):\n",
    "        set_count += 1\n",
    "        record_count = 0\n",
    "    # Create endpoint URL with each city\n",
    "    city_url = url + \"&q=\" + city\n",
    "\n",
    "    \n",
    "    # Log the URL and set number\n",
    "    print(f\"Processing Record {record_count} of Set {set_count} | {city}\")\n",
    "    \n",
    "    record_count += 1\n",
    "    \n",
    "    # Run an API request for each of the cities\n",
    "    try:\n",
    "        \n",
    "        # Parse the JSON and retrieve data\n",
    "        city_weather = requests.get(city_url).json()\n",
    "        \n",
    "               # Extract out max temp humidity and cloudiness\n",
    "        city_lat = city_weather[\"coord\"][\"lat\"]\n",
    "        city_lng = city_weather[\"coord\"][\"lon\"]\n",
    "        city_max_temp = city_weather[\"main\"][\"temp_max\"]\n",
    "        city_humidity = city_weather[\"main\"][\"humidity\"]\n",
    "        city_clouds = city_weather[\"clouds\"][\"all\"]\n",
    "        city_wind = city_weather[\"wind\"][\"speed\"]\n",
    "        city_country = city_weather[\"sys\"][\"country\"]\n",
    "        city_date = city_weather[\"dt\"]\n",
    "        \n",
    "        # Append the city info into the city data list\n",
    "        city_data.append({\n",
    "            \"City\" :city,\n",
    "            \"Lat\" :city_lat,\n",
    "            \"Lng\" :city_lng,\n",
    "            \"Max Temp\" :city_max_temp,\n",
    "            \"Humidity\" :city_humidity,\n",
    "            \"Cloudiness\" :city_clouds,\n",
    "            \"Windspeed\" :city_wind,\n",
    "            \"Country\" :city_country,\n",
    "            \"Date\" :city_date  \n",
    "        })\n",
    "    except:\n",
    "        print(\"City not found. Skipping ...\")\n",
    "        pass\n",
    "    # Indicate that data loading is complete\n",
    "        print(\"-----------------------\")\n",
    "        print(\"Data Retrieval Complete\")\n",
    "        print(\"-----------------------\")"
   ]
  },
  {
   "cell_type": "code",
   "execution_count": null,
   "id": "dc406ac1",
   "metadata": {},
   "outputs": [],
   "source": [
    "# Convert array of JSON into Pandas\n",
    "city_data_df = pd.DataFrame(city_data)\n",
    "\n",
    "\n",
    "# Extract relevant fields from the data frame\n",
    "lats = city_data_df[\"Lat\"]\n",
    "max_temps = city_data_df[\"Max Temp\"]\n",
    "humidity = city_data_df[\"Humidity\"]\n",
    "cloudiness = city_data_df[\"Cloudiness\"]\n",
    "wind_speed = city_data_df[\"Windspeed\"]\n",
    "\n",
    "city_data_df.to_csv(output_data_file, index_label=\"City_ID\")\n",
    "\n",
    "city_data_df.count()"
   ]
  },
  {
   "cell_type": "code",
   "execution_count": null,
   "id": "b11acab3",
   "metadata": {},
   "outputs": [],
   "source": [
    "# Display the city Data Frame\n",
    "city_data_df.head()"
   ]
  },
  {
   "cell_type": "code",
   "execution_count": null,
   "id": "63535f49",
   "metadata": {},
   "outputs": [],
   "source": [
    "# Build scatter plot for latitude vs. temperature\n",
    "plt.scatter(lats,\n",
    "            max_temps,\n",
    "           edgecolor=\"black\", linewidth=1, marker=\"o\",\n",
    "           alpha=0.8, label=\"Cities\")\n",
    "\n",
    "# Incorporate the other graph properties\n",
    "plt.title(\"City Latitude Vs. Max Temperature(%s)\" % time.strftime(\"%x\"))\n",
    "plt.ylabel(\"Max Temperature (F)\")\n",
    "plt.xlabel(\"Latitude\")\n",
    "plt.grid(True)\n",
    "\n",
    "# Save figure\n",
    "plt.savefig(\"output_data/Fig1.png\")\n",
    "\n",
    "# Show plot\n",
    "plt.show()"
   ]
  },
  {
   "cell_type": "code",
   "execution_count": null,
   "id": "a177d50f",
   "metadata": {},
   "outputs": [],
   "source": [
    "# Build scatter plot for latitude vs. Humidity\n",
    "plt.scatter(lats,\n",
    "            humidity,\n",
    "           edgecolor=\"black\", linewidth=1, marker=\"o\",\n",
    "           alpha=0.8, label=\"Cities\")\n",
    "\n",
    "\n",
    "# Incorporate the other graph properties\n",
    "plt.title(\"City Latitude Vs. Humidity(%s)\" % time.strftime(\"%x\"))\n",
    "plt.ylabel(\"Humidity (%)\")\n",
    "plt.xlabel(\"Latitude\")\n",
    "plt.grid(True)\n",
    "\n",
    "\n",
    "# Save figure\n",
    "plt.savefig(\"output_data/Fig2.png\")\n",
    "\n",
    "# Show plot\n",
    "plt.show()"
   ]
  },
  {
   "cell_type": "code",
   "execution_count": null,
   "id": "177a2d91",
   "metadata": {},
   "outputs": [],
   "source": [
    "# Build scatter plot for latitude vs. Cloudiness\n",
    "plt.scatter(lats,\n",
    "            cloudiness,\n",
    "           edgecolor=\"black\", linewidth=1, marker=\"o\",\n",
    "           alpha=0.8, label=\"Cities\")\n",
    "\n",
    "\n",
    "# Incorporate the other graph properties\n",
    "plt.title(\"City Latitude Vs. Cloudiness(%s)\" % time.strftime(\"%x\"))\n",
    "plt.ylabel(\"Cloudiness (%)\")\n",
    "plt.xlabel(\"Latitude\")\n",
    "plt.grid(True)\n",
    "\n",
    "\n",
    "# Save figure\n",
    "plt.savefig(\"output_data/Fig3.png\")\n",
    "\n",
    "# Show plot\n",
    "plt.show()"
   ]
  },
  {
   "cell_type": "code",
   "execution_count": null,
   "id": "44b31f25",
   "metadata": {},
   "outputs": [],
   "source": [
    "# Build scatter plot for latitude vs. Windspeed\n",
    "plt.scatter(lats,\n",
    "            wind_speed,\n",
    "           edgecolor=\"black\", linewidth=1, marker=\"o\",\n",
    "           alpha=0.8, label=\"Cities\")\n",
    "\n",
    "\n",
    "# Incorporate the other graph properties\n",
    "plt.title(\"City Latitude Vs. Wind Speed(%s)\" % time.strftime(\"%x\"))\n",
    "plt.ylabel(\"Windspeed mph\")\n",
    "plt.xlabel(\"Latitude\")\n",
    "plt.grid(True)\n",
    "\n",
    "\n",
    "# Save figure\n",
    "plt.savefig(\"output_data/Fig4.png\")\n",
    "\n",
    "# Show plot\n",
    "plt.show()"
   ]
  },
  {
   "cell_type": "code",
   "execution_count": null,
   "id": "08224a9d",
   "metadata": {},
   "outputs": [],
   "source": [
    "# OPTIONAL: Create a function to create Linear Regression plots\n",
    "def plot_linear_regression(x_values,y_values,title,text_coordinates):\n",
    "    \n",
    "    # Run regression on Southern Hemisphere\n",
    "    (slope, intercept, rvalue, pvalue, stderr) = linregress (x_values,y_values)\n",
    "    regress_values = x_values * slope + intercept\n",
    "    line_eq = \"y = \" + str(round(slope,2)) + \" x + \" + str(round(intercept,2))\n",
    "    \n",
    "    # Plot\n",
    "    plt.scatter(x_values,y_values)\n",
    "    plt.plot(x_values, regress_values, \"r-\")\n",
    "    plt.annotate(line_eq,text_coordinates, fontsize=15, color=\"red\")\n",
    "    plt.xlabel(\"Latitude\")\n",
    "    plt.ylabel(\"Title\")\n",
    "    print(f\"The r-squared is: {rvalue}\")\n",
    "    plt.show()"
   ]
  },
  {
   "cell_type": "code",
   "execution_count": null,
   "id": "7092c909",
   "metadata": {},
   "outputs": [],
   "source": [
    "# Create Northern and Southern Hemisphere DataFrames\n",
    "northern_hemi_df = city_data_df.loc[(city_data_df[\"Lat\"] >= 0)]\n",
    "southern_hemi_df = city_data_df.loc[(city_data_df[\"Lat\"] <0)]"
   ]
  },
  {
   "cell_type": "code",
   "execution_count": null,
   "id": "22b82524",
   "metadata": {},
   "outputs": [],
   "source": [
    "x_values = northern_hemi_df [\"Lat\"]\n",
    "y_values = northern_hemi_df [\"Max Temp\"]\n",
    "plot_linear_regression(x_values,y_values, 'Max Temp', (6,30))"
   ]
  },
  {
   "cell_type": "code",
   "execution_count": null,
   "id": "3460bfe9",
   "metadata": {},
   "outputs": [],
   "source": [
    "x_values = southern_hemi_df [\"Lat\"]\n",
    "y_values = southern_hemi_df [\"Max Temp\"]\n",
    "plot_linear_regression(x_values,y_values, 'Max Temp', (-30,40))"
   ]
  },
  {
   "cell_type": "code",
   "execution_count": null,
   "id": "e78307d2",
   "metadata": {},
   "outputs": [],
   "source": [
    "x_values = northern_hemi_df [\"Lat\"]\n",
    "y_values = northern_hemi_df [\"Humidity\"]\n",
    "plot_linear_regression(x_values,y_values, 'Humidity', (40,10))"
   ]
  },
  {
   "cell_type": "code",
   "execution_count": null,
   "id": "100b89cc",
   "metadata": {},
   "outputs": [],
   "source": [
    "x_values = southern_hemi_df [\"Lat\"]\n",
    "y_values = southern_hemi_df [\"Humidity\"]\n",
    "plot_linear_regression(x_values,y_values, 'Humidity', (-30,150))"
   ]
  },
  {
   "cell_type": "code",
   "execution_count": null,
   "id": "7a077386",
   "metadata": {},
   "outputs": [],
   "source": [
    "x_values = northern_hemi_df [\"Lat\"]\n",
    "y_values = northern_hemi_df [\"Cloudiness\"]\n",
    "plot_linear_regression(x_values,y_values, 'Cloudiness', (40,10))"
   ]
  },
  {
   "cell_type": "code",
   "execution_count": null,
   "id": "801ef3e5",
   "metadata": {},
   "outputs": [],
   "source": [
    "x_values = southern_hemi_df [\"Lat\"]\n",
    "y_values = southern_hemi_df [\"Cloudiness\"]\n",
    "plot_linear_regression(x_values,y_values, 'Cloudiness', (-30,30))"
   ]
  },
  {
   "cell_type": "code",
   "execution_count": null,
   "id": "d6935a17",
   "metadata": {},
   "outputs": [],
   "source": [
    "x_values = northern_hemi_df [\"Lat\"]\n",
    "y_values = northern_hemi_df [\"Windspeed\"]\n",
    "plot_linear_regression(x_values,y_values, 'Windspeed', (40,25))"
   ]
  },
  {
   "cell_type": "code",
   "execution_count": null,
   "id": "3ca24d94",
   "metadata": {},
   "outputs": [],
   "source": [
    "x_values = southern_hemi_df [\"Lat\"]\n",
    "y_values = southern_hemi_df [\"Windspeed\"]\n",
    "plot_linear_regression(x_values,y_values, 'Windspeed', (-30,30))"
   ]
  }
 ],
 "metadata": {
  "kernelspec": {
   "display_name": "Python 3 (ipykernel)",
   "language": "python",
   "name": "python3"
  },
  "language_info": {
   "codemirror_mode": {
    "name": "ipython",
    "version": 3
   },
   "file_extension": ".py",
   "mimetype": "text/x-python",
   "name": "python",
   "nbconvert_exporter": "python",
   "pygments_lexer": "ipython3",
   "version": "3.10.9"
  }
 },
 "nbformat": 4,
 "nbformat_minor": 5
}
